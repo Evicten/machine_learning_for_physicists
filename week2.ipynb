{
 "cells": [
  {
   "cell_type": "code",
   "execution_count": 2,
   "metadata": {},
   "outputs": [],
   "source": [
    "import numpy as np\n",
    "import matplotlib.pyplot as plt"
   ]
  },
  {
   "cell_type": "markdown",
   "metadata": {},
   "source": [
    "# Exercise 1: Vectorized Operations: Writing Optimized Code\n",
    "\n",
    "1. Generate a 1000 × 1000 matrix of random integers between 0 (included) and 20 (excluded).\n",
    "2. Compute the sum of diagonal elements using a for loop.\n",
    "3. Compute the sum of diagonal elements using a NumPy linear algebra function.\n",
    "4. Compare the running times of 2. and 3. with %%timeit (the %% syntax allows timing multiple lines).\n",
    "Hint: use numpy.random.randint."
   ]
  },
  {
   "cell_type": "code",
   "execution_count": 24,
   "metadata": {},
   "outputs": [],
   "source": [
    "matrix = np.random.randint(0, 20, size=(1000, 1000))"
   ]
  },
  {
   "cell_type": "code",
   "execution_count": 25,
   "metadata": {},
   "outputs": [
    {
     "name": "stdout",
     "output_type": "stream",
     "text": [
      "127 µs ± 1.5 µs per loop (mean ± std. dev. of 7 runs, 10,000 loops each)\n"
     ]
    }
   ],
   "source": [
    "%%timeit\n",
    "sum = 0\n",
    "for i in np.arange(1000):\n",
    "    sum += matrix[i, i]"
   ]
  },
  {
   "cell_type": "code",
   "execution_count": 26,
   "metadata": {},
   "outputs": [
    {
     "name": "stdout",
     "output_type": "stream",
     "text": [
      "1.34 µs ± 11.2 ns per loop (mean ± std. dev. of 7 runs, 1,000,000 loops each)\n"
     ]
    }
   ],
   "source": [
    "%%timeit\n",
    "trace = np.trace(matrix)"
   ]
  },
  {
   "cell_type": "markdown",
   "metadata": {},
   "source": [
    "# Exercise 2: Fibonacci Numbers with Binet Formula\n",
    "\n",
    "1. Using NumPy, compute the first 20 numbers of the Fibonacci series Fn (n = 1, 2, . . . , 10) with Binet formula"
   ]
  },
  {
   "cell_type": "code",
   "execution_count": 27,
   "metadata": {},
   "outputs": [
    {
     "name": "stdout",
     "output_type": "stream",
     "text": [
      "[1.000e+00 1.000e+00 2.000e+00 3.000e+00 5.000e+00 8.000e+00 1.300e+01\n",
      " 2.100e+01 3.400e+01 5.500e+01 8.900e+01 1.440e+02 2.330e+02 3.770e+02\n",
      " 6.100e+02 9.870e+02 1.597e+03 2.584e+03 4.181e+03 6.765e+03]\n"
     ]
    }
   ],
   "source": [
    "def binet_formula(n):\n",
    "    return (np.power(1+np.sqrt(5), n) - np.power(1-np.sqrt(5), n))/(2**n*np.sqrt(5))\n",
    "\n",
    "first_twenty = binet_formula(np.arange(20)+1)\n",
    "print(first_twenty)"
   ]
  },
  {
   "cell_type": "markdown",
   "metadata": {},
   "source": [
    "# Exercise 3: Quantum Harmonic Oscillator\n",
    "\n",
    "In this exercise, you will find the bound states of the 1d quantum harmonic oscillator of mass m by solving the time-independent Schr ̈odinger equation numerically. This equation is an eigenvalue problem\n",
    "Hψn = Enψn\n",
    "where H = K + V = − h ̄2 ∂2 + 1 mω2x2 is the Hamiltonian operator, ψ is the wavefunction (eigenfunction),\n",
    "2m x 2 n and En the energy level (eigenvalue). In the following, set h ̄ = m = ω = 1.\n",
    "1. Space discretization. Consider the interval [−10, 10] and discretize it generating a mesh of uniform spacing ∆x = 0.01 with N points, i.e., xi = −10 + i∆x (i = 0,1,...,N − 1). In this space, the wavefunction ψ is a vector with components (ψ)i = ψ(xi).\n",
    "2. Hamiltonian discretization. Using this discretization, the Hamiltonian becomes a N × N matrix. In particular, the kinetic energy term is\n",
    "\n",
    "()\n",
    "\n",
    "where we used the finite-difference approximation of the second derivative, and the potential energy\n",
    "term is\n",
    "\n",
    "()\n",
    "\n",
    "Generate the Hamiltonian matrix Hˆ = Kˆ + Vˆ .\n",
    "\n",
    "3. Diagonalization. Diagonalize Hˆ using numpy.linalg.eig and numpy.linalg.eigh, which is specific for symmetric matrices. Use %%timeit to compare running times. Check that the eigenvalues are sorted in increasing order, and if not, do so.\n",
    "4. Normalize the wavefunctions (eigenfunctions) of Hˆ computing the normalization constant\n",
    "Z =\n",
    "sZ 10 vuN−1\n",
    "ψ∗(x)ψ(x)dx ≈ ut X ψ∗(xi)ψ(xi)∆x.\n",
    "−10\n",
    "i=0\n",
    "5. Plot the first 10 (normalized) wavefunctions and print the values of the corresponding energy levels (eigenvalues1 ). Compare with the theoretical predictions En = (n + 21 ).\n",
    "Hint: use numpy.arange, numpy.diag, numpy.argsort, matplotlib.pyplot.plot.\n"
   ]
  },
  {
   "cell_type": "code",
   "execution_count": 11,
   "metadata": {},
   "outputs": [
    {
     "name": "stdout",
     "output_type": "stream",
     "text": [
      "0.01\n",
      "[-10.    -9.99  -9.98 ...   9.98   9.99  10.  ]\n"
     ]
    }
   ],
   "source": [
    "delta_x = 0.01\n",
    "size = int(20/delta_x) + 1\n",
    "x_space, step = np.linspace(-10, 10, num=int(20/delta_x)+1, retstep = True)\n",
    "print(step)\n",
    "print(x_space)"
   ]
  },
  {
   "cell_type": "code",
   "execution_count": 26,
   "metadata": {},
   "outputs": [
    {
     "name": "stdout",
     "output_type": "stream",
     "text": [
      "[[10000. -5000.    -0. ...    -0.    -0.    -0.]\n",
      " [-5000. 10000. -5000. ...    -0.    -0.    -0.]\n",
      " [   -0. -5000. 10000. ...    -0.    -0.    -0.]\n",
      " ...\n",
      " [   -0.    -0.    -0. ... 10000. -5000.    -0.]\n",
      " [   -0.    -0.    -0. ... -5000. 10000. -5000.]\n",
      " [   -0.    -0.    -0. ...    -0. -5000. 10000.]]\n",
      "[[25.        0.        0.       ...  0.        0.        0.      ]\n",
      " [ 0.       24.950025  0.       ...  0.        0.        0.      ]\n",
      " [ 0.        0.       24.9001   ...  0.        0.        0.      ]\n",
      " ...\n",
      " [ 0.        0.        0.       ... 24.9001    0.        0.      ]\n",
      " [ 0.        0.        0.       ...  0.       24.950025  0.      ]\n",
      " [ 0.        0.        0.       ...  0.        0.       25.      ]]\n",
      "[[10025.       -5000.           0.       ...     0.           0.\n",
      "      0.      ]\n",
      " [-5000.       10024.950025 -5000.       ...     0.           0.\n",
      "      0.      ]\n",
      " [    0.       -5000.       10024.9001   ...     0.           0.\n",
      "      0.      ]\n",
      " ...\n",
      " [    0.           0.           0.       ... 10024.9001   -5000.\n",
      "      0.      ]\n",
      " [    0.           0.           0.       ... -5000.       10024.950025\n",
      "  -5000.      ]\n",
      " [    0.           0.           0.       ...     0.       -5000.\n",
      "  10025.      ]]\n"
     ]
    }
   ],
   "source": [
    "K = -1/(2*delta_x**2)*(np.diag(-2*np.ones(size))+np.diag(1*np.ones(size-1), k=1)+np.diag(1*np.ones(size-1), k=-1))\n",
    "print(K)\n",
    "\n",
    "def V_calc(x):\n",
    "    return 1/2*x**2\n",
    "\n",
    "V_vec = V_calc(x_space)\n",
    "V = 1/2*np.diag(V_vec)\n",
    "print(V)\n",
    "\n",
    "H = K + V\n",
    "print(H)"
   ]
  },
  {
   "cell_type": "code",
   "execution_count": 27,
   "metadata": {},
   "outputs": [
    {
     "name": "stdout",
     "output_type": "stream",
     "text": [
      "[20019.78223004 20016.06330319 20013.17378806 ...   768.07170486\n",
      "  1032.99425517   444.97692994]\n"
     ]
    }
   ],
   "source": [
    "eigenvalues, eigenvectors = np.linalg.eig(H)\n",
    "print(eigenvalues)"
   ]
  },
  {
   "cell_type": "code",
   "execution_count": 59,
   "metadata": {},
   "outputs": [
    {
     "name": "stdout",
     "output_type": "stream",
     "text": [
      "[3.53551828e-01 1.06065236e+00 1.76774664e+00 ... 2.00160633e+04\n",
      " 2.00197822e+04 2.00197822e+04]\n"
     ]
    }
   ],
   "source": [
    "eigenvalues, eigenvectors = np.linalg.eigh(H)\n",
    "print(eigenvalues)"
   ]
  },
  {
   "cell_type": "code",
   "execution_count": 63,
   "metadata": {},
   "outputs": [
    {
     "name": "stdout",
     "output_type": "stream",
     "text": [
      "(2001, 2001)\n"
     ]
    }
   ],
   "source": [
    "# Normalize\n",
    "\n",
    "def normalize(eigenvectors):\n",
    "    return np.sqrt(np.sum(np.square(eigenvectors), axis = 0)*delta_x)\n",
    "\n",
    "print(eigenvectors.shape)\n",
    "Z = (normalize(eigenvectors)[np.newaxis]).T"
   ]
  },
  {
   "cell_type": "code",
   "execution_count": 76,
   "metadata": {},
   "outputs": [
    {
     "name": "stdout",
     "output_type": "stream",
     "text": [
      "100.00000000000004\n",
      "(1, 9)\n"
     ]
    }
   ],
   "source": [
    "## Plot first ten eigenvectors\n",
    "eigenvec = np.divide(eigenvectors[:, 0:9],Z)\n",
    "print(np.sum(np.square(eigenvec[:, 6])))\n",
    "eigenval = eigenvalues[0:9].T[np.newaxis]\n",
    "print(eigenval.shape)\n",
    "eigenval = np.divide(eigenval, Z)"
   ]
  },
  {
   "cell_type": "code",
   "execution_count": 74,
   "metadata": {},
   "outputs": [
    {
     "name": "stdout",
     "output_type": "stream",
     "text": [
      "(2001, 9)\n",
      "(2001, 9)\n"
     ]
    }
   ],
   "source": [
    "print(eigenvec.shape)\n",
    "print(eigenval.shape)"
   ]
  },
  {
   "cell_type": "code",
   "execution_count": 71,
   "metadata": {},
   "outputs": [
    {
     "ename": "SyntaxError",
     "evalue": "invalid decimal literal (3128753363.py, line 2)",
     "output_type": "error",
     "traceback": [
      "\u001b[0;36m  Cell \u001b[0;32mIn[71], line 2\u001b[0;36m\u001b[0m\n\u001b[0;31m    plt.plot(x_space, vec, label = 'Energy = ' + {eval[i]:.4f})\u001b[0m\n\u001b[0m                                                           ^\u001b[0m\n\u001b[0;31mSyntaxError\u001b[0m\u001b[0;31m:\u001b[0m invalid decimal literal\n"
     ]
    }
   ],
   "source": [
    "for idx, vec in enumerate(eigenvec.T):\n",
    "    plt.plot(x_space, vec, label = 'Energy = ' + \"{:.4f}\".format(eigenval[idx]))\n",
    "    plt.xlabel('x')\n",
    "    plt.ylabel('psi(x)')\n",
    "    plt.legend()\n",
    "    plt.title('eigenvectors SHO')\n",
    "    plt.show()\n",
    "\n"
   ]
  },
  {
   "cell_type": "markdown",
   "metadata": {},
   "source": [
    "# Exercise 4 - Eigenvalue statistics of random matrices\n",
    "\n",
    "In this exercise, you will study the distribution of the spectrum of certain random matrices. Random matrix theory is a branch of mathematics with numerous applications in, e.g., physics, machine learning, and finance. The simplest random matrix is the Wigner one\n",
    "\n",
    "\n",
    "where A is a random matrix of size N with i.i.d. elements distributed from a standard Gaussian, i.e., Aij ∼N(0,1).\n",
    "1. Generate a Wigner matrix with N = 1000.\n",
    "2. Find the eigenvalues λn (n = 1, 2, . . . , N ) and sort them in increasing order.\n",
    "3. Plot the probability density of a single eigenvalue ρW (λ) and compare it to the Wigner semi-circle law"
   ]
  },
  {
   "cell_type": "code",
   "execution_count": 30,
   "metadata": {},
   "outputs": [],
   "source": [
    "N = 1000\n",
    "A = np.random.normal(size=(N,N))\n",
    "wigner = (A + A.T)/np.sqrt(2*N)"
   ]
  },
  {
   "cell_type": "code",
   "execution_count": 31,
   "metadata": {},
   "outputs": [
    {
     "data": {
      "text/plain": [
       "array([-1.99733045e+00, -1.97146709e+00, -1.95042784e+00, -1.93740224e+00,\n",
       "       -1.91593756e+00, -1.90705076e+00, -1.89759903e+00, -1.89004331e+00,\n",
       "       -1.87628643e+00, -1.86400301e+00, -1.86150303e+00, -1.85460327e+00,\n",
       "       -1.84198158e+00, -1.83945955e+00, -1.83657350e+00, -1.82451802e+00,\n",
       "       -1.81591809e+00, -1.81083295e+00, -1.79955397e+00, -1.79707774e+00,\n",
       "       -1.78936554e+00, -1.78420077e+00, -1.77302517e+00, -1.76738971e+00,\n",
       "       -1.75837603e+00, -1.75108977e+00, -1.74304052e+00, -1.73905792e+00,\n",
       "       -1.73725474e+00, -1.73221017e+00, -1.72582017e+00, -1.71481320e+00,\n",
       "       -1.70714858e+00, -1.70637411e+00, -1.69505315e+00, -1.69262418e+00,\n",
       "       -1.68362466e+00, -1.67828012e+00, -1.67565939e+00, -1.66483610e+00,\n",
       "       -1.66206740e+00, -1.66082991e+00, -1.65360901e+00, -1.65074078e+00,\n",
       "       -1.63277604e+00, -1.62971479e+00, -1.62397354e+00, -1.62132110e+00,\n",
       "       -1.62085962e+00, -1.61634055e+00, -1.59965752e+00, -1.59543317e+00,\n",
       "       -1.59453453e+00, -1.59006964e+00, -1.57827840e+00, -1.57621198e+00,\n",
       "       -1.57193621e+00, -1.56901418e+00, -1.56316378e+00, -1.56226038e+00,\n",
       "       -1.55729730e+00, -1.55024140e+00, -1.54864973e+00, -1.54592938e+00,\n",
       "       -1.54040468e+00, -1.53460512e+00, -1.53292799e+00, -1.52034056e+00,\n",
       "       -1.51568376e+00, -1.51204257e+00, -1.50774884e+00, -1.50330917e+00,\n",
       "       -1.50226386e+00, -1.49610087e+00, -1.48960682e+00, -1.48420723e+00,\n",
       "       -1.48223900e+00, -1.48013007e+00, -1.47232063e+00, -1.46925267e+00,\n",
       "       -1.46426426e+00, -1.45793482e+00, -1.45392240e+00, -1.45266571e+00,\n",
       "       -1.44188270e+00, -1.44016050e+00, -1.43491275e+00, -1.43113577e+00,\n",
       "       -1.42677196e+00, -1.42343760e+00, -1.41672186e+00, -1.41305702e+00,\n",
       "       -1.40628075e+00, -1.40491242e+00, -1.40136350e+00, -1.39762338e+00,\n",
       "       -1.39086810e+00, -1.38950704e+00, -1.38361221e+00, -1.37991739e+00,\n",
       "       -1.37418066e+00, -1.37245656e+00, -1.36618214e+00, -1.35801841e+00,\n",
       "       -1.35376380e+00, -1.35271814e+00, -1.34609415e+00, -1.34184068e+00,\n",
       "       -1.33595035e+00, -1.33477714e+00, -1.33202676e+00, -1.33121402e+00,\n",
       "       -1.32643826e+00, -1.32235997e+00, -1.31924733e+00, -1.31430377e+00,\n",
       "       -1.31266035e+00, -1.30612276e+00, -1.30119630e+00, -1.29634150e+00,\n",
       "       -1.29334344e+00, -1.28909889e+00, -1.28446076e+00, -1.27443527e+00,\n",
       "       -1.27104596e+00, -1.26653230e+00, -1.26387916e+00, -1.26155883e+00,\n",
       "       -1.25788569e+00, -1.25239575e+00, -1.24942154e+00, -1.24484671e+00,\n",
       "       -1.24186347e+00, -1.23884481e+00, -1.23254524e+00, -1.23012837e+00,\n",
       "       -1.22588213e+00, -1.22258270e+00, -1.22034189e+00, -1.21746073e+00,\n",
       "       -1.20850563e+00, -1.20631857e+00, -1.20048195e+00, -1.19854814e+00,\n",
       "       -1.19663652e+00, -1.19294627e+00, -1.19040621e+00, -1.18693808e+00,\n",
       "       -1.17499617e+00, -1.17364134e+00, -1.17209911e+00, -1.16699075e+00,\n",
       "       -1.16266082e+00, -1.16091539e+00, -1.15877491e+00, -1.15408675e+00,\n",
       "       -1.15056104e+00, -1.14671820e+00, -1.14282333e+00, -1.14043788e+00,\n",
       "       -1.13904436e+00, -1.12867947e+00, -1.12628804e+00, -1.12155293e+00,\n",
       "       -1.11627706e+00, -1.11396899e+00, -1.11178087e+00, -1.10361714e+00,\n",
       "       -1.10014666e+00, -1.09898003e+00, -1.09751608e+00, -1.09310677e+00,\n",
       "       -1.08851828e+00, -1.08421977e+00, -1.08048724e+00, -1.07790914e+00,\n",
       "       -1.07065987e+00, -1.06770049e+00, -1.06584486e+00, -1.06088856e+00,\n",
       "       -1.05669008e+00, -1.05353547e+00, -1.04870042e+00, -1.04405646e+00,\n",
       "       -1.03806753e+00, -1.03572329e+00, -1.03381520e+00, -1.03001398e+00,\n",
       "       -1.02757096e+00, -1.02159977e+00, -1.01934580e+00, -1.01437043e+00,\n",
       "       -1.01180647e+00, -1.01096376e+00, -1.00766927e+00, -1.00394067e+00,\n",
       "       -1.00248795e+00, -9.99158090e-01, -9.85704623e-01, -9.84276133e-01,\n",
       "       -9.81552465e-01, -9.79587435e-01, -9.76887666e-01, -9.73366595e-01,\n",
       "       -9.70743044e-01, -9.64572636e-01, -9.62399737e-01, -9.56945727e-01,\n",
       "       -9.52371628e-01, -9.49916937e-01, -9.46597875e-01, -9.43529458e-01,\n",
       "       -9.40271324e-01, -9.36190502e-01, -9.32094479e-01, -9.28824008e-01,\n",
       "       -9.27016845e-01, -9.26542748e-01, -9.19815022e-01, -9.15600661e-01,\n",
       "       -9.09143658e-01, -9.05902611e-01, -9.05153982e-01, -9.00040824e-01,\n",
       "       -8.93041651e-01, -8.92246945e-01, -8.90416400e-01, -8.83765362e-01,\n",
       "       -8.80432742e-01, -8.76647204e-01, -8.72716599e-01, -8.70761256e-01,\n",
       "       -8.67808240e-01, -8.66264008e-01, -8.62313848e-01, -8.56464047e-01,\n",
       "       -8.51637327e-01, -8.50599882e-01, -8.47939134e-01, -8.45076533e-01,\n",
       "       -8.41876345e-01, -8.38339196e-01, -8.33297445e-01, -8.32047836e-01,\n",
       "       -8.24596224e-01, -8.22557188e-01, -8.20086069e-01, -8.13131433e-01,\n",
       "       -8.12710729e-01, -8.09683755e-01, -8.04627468e-01, -8.00302184e-01,\n",
       "       -7.96328499e-01, -7.94476558e-01, -7.90085700e-01, -7.86572851e-01,\n",
       "       -7.84706512e-01, -7.79361399e-01, -7.77282112e-01, -7.75153898e-01,\n",
       "       -7.71818588e-01, -7.63282212e-01, -7.62703164e-01, -7.60676353e-01,\n",
       "       -7.57224315e-01, -7.54459140e-01, -7.47683703e-01, -7.46517871e-01,\n",
       "       -7.42640484e-01, -7.41646118e-01, -7.38632065e-01, -7.36038731e-01,\n",
       "       -7.34228935e-01, -7.26867487e-01, -7.23355886e-01, -7.19091434e-01,\n",
       "       -7.16353451e-01, -7.15511339e-01, -7.10665754e-01, -7.07098408e-01,\n",
       "       -7.06215136e-01, -7.04050874e-01, -6.96417195e-01, -6.94530394e-01,\n",
       "       -6.93392533e-01, -6.88320075e-01, -6.82832671e-01, -6.80286889e-01,\n",
       "       -6.80230456e-01, -6.74334308e-01, -6.71217570e-01, -6.66490756e-01,\n",
       "       -6.65172757e-01, -6.62317166e-01, -6.60618814e-01, -6.51788426e-01,\n",
       "       -6.46845957e-01, -6.45298875e-01, -6.42970295e-01, -6.41823663e-01,\n",
       "       -6.36609649e-01, -6.33607604e-01, -6.28345600e-01, -6.26830068e-01,\n",
       "       -6.24170764e-01, -6.20765155e-01, -6.17579861e-01, -6.12253006e-01,\n",
       "       -6.08760499e-01, -6.04934465e-01, -6.02294917e-01, -5.98391834e-01,\n",
       "       -5.96201605e-01, -5.94406127e-01, -5.92626012e-01, -5.89948620e-01,\n",
       "       -5.86375239e-01, -5.85243241e-01, -5.79552802e-01, -5.75293323e-01,\n",
       "       -5.74038399e-01, -5.70909207e-01, -5.68102601e-01, -5.66291533e-01,\n",
       "       -5.60575124e-01, -5.56926197e-01, -5.51726696e-01, -5.49700985e-01,\n",
       "       -5.45672484e-01, -5.42561065e-01, -5.39039048e-01, -5.35827726e-01,\n",
       "       -5.34541951e-01, -5.32921076e-01, -5.24927952e-01, -5.22939934e-01,\n",
       "       -5.20382897e-01, -5.16133351e-01, -5.12513325e-01, -5.09787999e-01,\n",
       "       -5.07854084e-01, -5.03617467e-01, -5.02594340e-01, -5.00547571e-01,\n",
       "       -4.98096078e-01, -4.92561917e-01, -4.90551569e-01, -4.87572142e-01,\n",
       "       -4.80912153e-01, -4.77744063e-01, -4.76011064e-01, -4.71166520e-01,\n",
       "       -4.70613084e-01, -4.64763025e-01, -4.60888196e-01, -4.59745269e-01,\n",
       "       -4.58500253e-01, -4.57142841e-01, -4.49909547e-01, -4.46658343e-01,\n",
       "       -4.46045971e-01, -4.42683632e-01, -4.36601002e-01, -4.36055858e-01,\n",
       "       -4.33465410e-01, -4.29164840e-01, -4.23938822e-01, -4.22466472e-01,\n",
       "       -4.20994839e-01, -4.14616095e-01, -4.11936218e-01, -4.04391636e-01,\n",
       "       -4.00354482e-01, -3.99041255e-01, -3.93576622e-01, -3.90490633e-01,\n",
       "       -3.86421735e-01, -3.85559838e-01, -3.83625980e-01, -3.79000266e-01,\n",
       "       -3.75779605e-01, -3.73426589e-01, -3.67726194e-01, -3.66523591e-01,\n",
       "       -3.62176827e-01, -3.58062618e-01, -3.52225959e-01, -3.50236701e-01,\n",
       "       -3.48764106e-01, -3.47459677e-01, -3.45075078e-01, -3.41139698e-01,\n",
       "       -3.36779352e-01, -3.35709408e-01, -3.33225936e-01, -3.29054748e-01,\n",
       "       -3.27014752e-01, -3.24510819e-01, -3.21573764e-01, -3.16568499e-01,\n",
       "       -3.14024828e-01, -3.11784573e-01, -3.04003830e-01, -3.00138277e-01,\n",
       "       -2.98930252e-01, -2.96397572e-01, -2.91777813e-01, -2.89879292e-01,\n",
       "       -2.85508103e-01, -2.81439105e-01, -2.75761135e-01, -2.72971136e-01,\n",
       "       -2.69670573e-01, -2.68784016e-01, -2.63941174e-01, -2.56529089e-01,\n",
       "       -2.56097360e-01, -2.53235817e-01, -2.51167751e-01, -2.50273383e-01,\n",
       "       -2.49040146e-01, -2.43895565e-01, -2.42267518e-01, -2.37981575e-01,\n",
       "       -2.34989039e-01, -2.29632180e-01, -2.27057255e-01, -2.23765311e-01,\n",
       "       -2.20956670e-01, -2.18577376e-01, -2.13557944e-01, -2.12635379e-01,\n",
       "       -2.09521109e-01, -2.05335839e-01, -2.02682754e-01, -1.99039574e-01,\n",
       "       -1.96437313e-01, -1.92780518e-01, -1.89923923e-01, -1.85683052e-01,\n",
       "       -1.85171786e-01, -1.82222619e-01, -1.79742635e-01, -1.76595766e-01,\n",
       "       -1.72006376e-01, -1.69430435e-01, -1.68634843e-01, -1.64438376e-01,\n",
       "       -1.58157965e-01, -1.57803991e-01, -1.55950132e-01, -1.52107234e-01,\n",
       "       -1.45746466e-01, -1.44141097e-01, -1.38342510e-01, -1.36679611e-01,\n",
       "       -1.33331541e-01, -1.30005179e-01, -1.27897304e-01, -1.27681858e-01,\n",
       "       -1.21626817e-01, -1.18589627e-01, -1.17188042e-01, -1.12199730e-01,\n",
       "       -1.10193891e-01, -1.09239147e-01, -1.01620062e-01, -9.83107579e-02,\n",
       "       -9.60753664e-02, -9.55501613e-02, -9.33188872e-02, -8.89281854e-02,\n",
       "       -8.38756133e-02, -8.21495628e-02, -7.62134187e-02, -7.26435445e-02,\n",
       "       -7.04773281e-02, -6.70633453e-02, -6.36134970e-02, -6.13905628e-02,\n",
       "       -5.94680754e-02, -5.61410689e-02, -5.16285049e-02, -4.97359740e-02,\n",
       "       -4.80635193e-02, -4.63716804e-02, -4.36022083e-02, -3.70251918e-02,\n",
       "       -3.62125866e-02, -3.10918031e-02, -2.78208245e-02, -2.57684466e-02,\n",
       "       -2.02733863e-02, -1.74763201e-02, -1.30968881e-02, -9.66358100e-03,\n",
       "       -8.31839719e-03, -2.63731048e-03, -3.27447716e-04,  4.14136480e-03,\n",
       "        5.30161065e-03,  7.39991324e-03,  8.16474419e-03,  1.14813341e-02,\n",
       "        1.41294153e-02,  1.68762565e-02,  2.35478473e-02,  2.38287895e-02,\n",
       "        2.73723316e-02,  3.00123310e-02,  3.21035878e-02,  3.38981809e-02,\n",
       "        3.84950695e-02,  3.91793823e-02,  4.78175125e-02,  4.90976462e-02,\n",
       "        5.15398965e-02,  5.57139470e-02,  5.96244351e-02,  6.28124187e-02,\n",
       "        6.53431724e-02,  7.26053734e-02,  7.44882941e-02,  7.62788441e-02,\n",
       "        8.04342712e-02,  8.18790655e-02,  8.38850108e-02,  8.85593550e-02,\n",
       "        9.07473563e-02,  9.34829140e-02,  9.57289295e-02,  9.92510894e-02,\n",
       "        1.02755010e-01,  1.06902459e-01,  1.10951534e-01,  1.14891182e-01,\n",
       "        1.18725634e-01,  1.20392685e-01,  1.24768173e-01,  1.29124225e-01,\n",
       "        1.31219055e-01,  1.33332248e-01,  1.38107375e-01,  1.40610265e-01,\n",
       "        1.41764342e-01,  1.48031777e-01,  1.53736218e-01,  1.54037414e-01,\n",
       "        1.57285952e-01,  1.61396069e-01,  1.64136353e-01,  1.65694559e-01,\n",
       "        1.68672207e-01,  1.71616876e-01,  1.73585888e-01,  1.79276710e-01,\n",
       "        1.82173950e-01,  1.83538959e-01,  1.87656689e-01,  1.90240368e-01,\n",
       "        1.91392003e-01,  1.94161611e-01,  1.96296358e-01,  2.04761623e-01,\n",
       "        2.09864319e-01,  2.11046674e-01,  2.15330334e-01,  2.17064906e-01,\n",
       "        2.21256348e-01,  2.23854369e-01,  2.24634038e-01,  2.28442249e-01,\n",
       "        2.29876457e-01,  2.33925571e-01,  2.38686966e-01,  2.40819553e-01,\n",
       "        2.43531933e-01,  2.48351223e-01,  2.49754893e-01,  2.50387424e-01,\n",
       "        2.56121390e-01,  2.58073998e-01,  2.60548177e-01,  2.64620203e-01,\n",
       "        2.66292598e-01,  2.70269401e-01,  2.73403037e-01,  2.76168144e-01,\n",
       "        2.80526753e-01,  2.82793855e-01,  2.87838377e-01,  2.89559651e-01,\n",
       "        2.91254687e-01,  2.95863093e-01,  2.99355603e-01,  3.03365224e-01,\n",
       "        3.05615211e-01,  3.09201478e-01,  3.13688100e-01,  3.15111621e-01,\n",
       "        3.17205519e-01,  3.21407886e-01,  3.22924742e-01,  3.26909120e-01,\n",
       "        3.28520951e-01,  3.32316871e-01,  3.35674110e-01,  3.37788716e-01,\n",
       "        3.43075413e-01,  3.45809962e-01,  3.52481954e-01,  3.53516102e-01,\n",
       "        3.55921569e-01,  3.57591475e-01,  3.61577044e-01,  3.62233842e-01,\n",
       "        3.68569855e-01,  3.71009061e-01,  3.76226501e-01,  3.77099840e-01,\n",
       "        3.80953956e-01,  3.83361426e-01,  3.85444189e-01,  3.88385057e-01,\n",
       "        3.89567052e-01,  3.94914718e-01,  3.98171524e-01,  4.04993386e-01,\n",
       "        4.06410561e-01,  4.07193674e-01,  4.10320716e-01,  4.12650606e-01,\n",
       "        4.18775727e-01,  4.21653905e-01,  4.24175419e-01,  4.25772154e-01,\n",
       "        4.29506936e-01,  4.35205241e-01,  4.38759072e-01,  4.42138981e-01,\n",
       "        4.43787181e-01,  4.49463361e-01,  4.51108532e-01,  4.53265773e-01,\n",
       "        4.58808035e-01,  4.60063044e-01,  4.65541451e-01,  4.70399169e-01,\n",
       "        4.72665953e-01,  4.78072417e-01,  4.83052889e-01,  4.83334646e-01,\n",
       "        4.87877558e-01,  4.89522821e-01,  4.91516354e-01,  4.92203942e-01,\n",
       "        5.00534689e-01,  5.02419938e-01,  5.02945055e-01,  5.06092069e-01,\n",
       "        5.09589989e-01,  5.12897728e-01,  5.20747800e-01,  5.23273800e-01,\n",
       "        5.24875712e-01,  5.28721798e-01,  5.30517324e-01,  5.34115661e-01,\n",
       "        5.34910126e-01,  5.37502794e-01,  5.43500058e-01,  5.44116759e-01,\n",
       "        5.49106767e-01,  5.52838742e-01,  5.56159383e-01,  5.58471592e-01,\n",
       "        5.62025955e-01,  5.65499650e-01,  5.70160402e-01,  5.71868547e-01,\n",
       "        5.72671925e-01,  5.78691006e-01,  5.84614242e-01,  5.85416025e-01,\n",
       "        5.87930420e-01,  5.92406892e-01,  5.92912218e-01,  5.98848276e-01,\n",
       "        6.00686854e-01,  6.04619744e-01,  6.09598257e-01,  6.11281815e-01,\n",
       "        6.14776703e-01,  6.19474908e-01,  6.23893282e-01,  6.28032306e-01,\n",
       "        6.31146202e-01,  6.33210751e-01,  6.34095945e-01,  6.36407358e-01,\n",
       "        6.42010684e-01,  6.47412058e-01,  6.49982046e-01,  6.54030162e-01,\n",
       "        6.57500768e-01,  6.62257387e-01,  6.62551739e-01,  6.69146983e-01,\n",
       "        6.72058026e-01,  6.77135231e-01,  6.78618350e-01,  6.82997823e-01,\n",
       "        6.85558700e-01,  6.88056459e-01,  6.93328195e-01,  6.93838153e-01,\n",
       "        6.98355754e-01,  7.02336403e-01,  7.05042204e-01,  7.09506466e-01,\n",
       "        7.12356070e-01,  7.14610913e-01,  7.17956847e-01,  7.19559878e-01,\n",
       "        7.22157638e-01,  7.30329155e-01,  7.32444059e-01,  7.35076136e-01,\n",
       "        7.36230331e-01,  7.41264945e-01,  7.43533203e-01,  7.45349457e-01,\n",
       "        7.47114953e-01,  7.49842270e-01,  7.51702780e-01,  7.59741583e-01,\n",
       "        7.63252798e-01,  7.66180754e-01,  7.69989732e-01,  7.76898532e-01,\n",
       "        7.79104439e-01,  7.80643334e-01,  7.83661999e-01,  7.87420318e-01,\n",
       "        7.92797965e-01,  7.95700630e-01,  7.97965051e-01,  8.01432876e-01,\n",
       "        8.04071621e-01,  8.07866974e-01,  8.10871579e-01,  8.15861229e-01,\n",
       "        8.21136807e-01,  8.23938698e-01,  8.26736923e-01,  8.28341884e-01,\n",
       "        8.36794280e-01,  8.37952030e-01,  8.41069070e-01,  8.42094413e-01,\n",
       "        8.46456835e-01,  8.50637611e-01,  8.53816533e-01,  8.56809884e-01,\n",
       "        8.57842935e-01,  8.59796493e-01,  8.67690951e-01,  8.71923155e-01,\n",
       "        8.76288943e-01,  8.81568371e-01,  8.83308645e-01,  8.84074862e-01,\n",
       "        8.88421200e-01,  8.92091360e-01,  8.97010550e-01,  8.99890475e-01,\n",
       "        9.03843553e-01,  9.08318219e-01,  9.09939073e-01,  9.13973334e-01,\n",
       "        9.17736788e-01,  9.21170954e-01,  9.24930166e-01,  9.31089538e-01,\n",
       "        9.34352563e-01,  9.36028625e-01,  9.39120609e-01,  9.41595539e-01,\n",
       "        9.43899070e-01,  9.46533578e-01,  9.52768736e-01,  9.55437940e-01,\n",
       "        9.57669932e-01,  9.59229330e-01,  9.62919626e-01,  9.67744926e-01,\n",
       "        9.73664668e-01,  9.77682279e-01,  9.80096241e-01,  9.83138104e-01,\n",
       "        9.90116909e-01,  9.94505818e-01,  9.96113873e-01,  1.00102702e+00,\n",
       "        1.00541528e+00,  1.00985220e+00,  1.01074939e+00,  1.01494454e+00,\n",
       "        1.01761272e+00,  1.02033543e+00,  1.02550492e+00,  1.03167710e+00,\n",
       "        1.03452728e+00,  1.03593634e+00,  1.03806325e+00,  1.04152809e+00,\n",
       "        1.04381942e+00,  1.05164888e+00,  1.05426616e+00,  1.05507342e+00,\n",
       "        1.05672287e+00,  1.06347378e+00,  1.06541489e+00,  1.07303321e+00,\n",
       "        1.07568682e+00,  1.07977925e+00,  1.08760039e+00,  1.09230426e+00,\n",
       "        1.09675844e+00,  1.09876017e+00,  1.10001256e+00,  1.10213716e+00,\n",
       "        1.10790222e+00,  1.11397186e+00,  1.11600887e+00,  1.11830199e+00,\n",
       "        1.12172447e+00,  1.12379203e+00,  1.12639785e+00,  1.12972858e+00,\n",
       "        1.13519444e+00,  1.14246245e+00,  1.14332417e+00,  1.14907149e+00,\n",
       "        1.15108644e+00,  1.15251397e+00,  1.15515845e+00,  1.15736432e+00,\n",
       "        1.16228094e+00,  1.16795271e+00,  1.16943527e+00,  1.17274322e+00,\n",
       "        1.17883252e+00,  1.18044821e+00,  1.18563924e+00,  1.19129088e+00,\n",
       "        1.19916142e+00,  1.20226729e+00,  1.21190383e+00,  1.21478287e+00,\n",
       "        1.21742512e+00,  1.22002485e+00,  1.22344811e+00,  1.22744287e+00,\n",
       "        1.22925365e+00,  1.23465940e+00,  1.23760733e+00,  1.24184907e+00,\n",
       "        1.24356492e+00,  1.24507666e+00,  1.25103045e+00,  1.25337690e+00,\n",
       "        1.25714407e+00,  1.25738462e+00,  1.26246939e+00,  1.27109021e+00,\n",
       "        1.27395006e+00,  1.27975744e+00,  1.28516659e+00,  1.28921461e+00,\n",
       "        1.29046798e+00,  1.29481419e+00,  1.29812641e+00,  1.29963704e+00,\n",
       "        1.31127401e+00,  1.31239425e+00,  1.31338664e+00,  1.32149195e+00,\n",
       "        1.32523347e+00,  1.32967628e+00,  1.33373926e+00,  1.33492984e+00,\n",
       "        1.34273715e+00,  1.34691854e+00,  1.34845997e+00,  1.35211210e+00,\n",
       "        1.35689627e+00,  1.36510057e+00,  1.36809886e+00,  1.37049393e+00,\n",
       "        1.37482549e+00,  1.37702045e+00,  1.38448677e+00,  1.38627058e+00,\n",
       "        1.39989219e+00,  1.40362966e+00,  1.40521934e+00,  1.41094791e+00,\n",
       "        1.41222570e+00,  1.41876102e+00,  1.42120944e+00,  1.42672825e+00,\n",
       "        1.43025738e+00,  1.43645642e+00,  1.43937179e+00,  1.44186472e+00,\n",
       "        1.44386371e+00,  1.45037752e+00,  1.45518839e+00,  1.45991777e+00,\n",
       "        1.46226338e+00,  1.47022117e+00,  1.47473302e+00,  1.47772301e+00,\n",
       "        1.48492222e+00,  1.49400568e+00,  1.49639775e+00,  1.50187162e+00,\n",
       "        1.50836829e+00,  1.51178606e+00,  1.51551088e+00,  1.51677675e+00,\n",
       "        1.52099798e+00,  1.52788556e+00,  1.53185200e+00,  1.53752431e+00,\n",
       "        1.54267480e+00,  1.54436464e+00,  1.55493438e+00,  1.55574310e+00,\n",
       "        1.56269890e+00,  1.56666694e+00,  1.56850539e+00,  1.57444007e+00,\n",
       "        1.57998181e+00,  1.58649011e+00,  1.58904116e+00,  1.59465785e+00,\n",
       "        1.59654028e+00,  1.59931300e+00,  1.60942903e+00,  1.61320614e+00,\n",
       "        1.62175810e+00,  1.63261681e+00,  1.63848472e+00,  1.64316801e+00,\n",
       "        1.64505761e+00,  1.64809255e+00,  1.65426940e+00,  1.65780205e+00,\n",
       "        1.66806493e+00,  1.67407187e+00,  1.67579947e+00,  1.68407187e+00,\n",
       "        1.69060151e+00,  1.69649097e+00,  1.70190968e+00,  1.70921882e+00,\n",
       "        1.71682796e+00,  1.72001577e+00,  1.73005601e+00,  1.73780484e+00,\n",
       "        1.74185158e+00,  1.74622791e+00,  1.75793472e+00,  1.77326111e+00,\n",
       "        1.77591431e+00,  1.78226947e+00,  1.78633109e+00,  1.78697695e+00,\n",
       "        1.79792731e+00,  1.80704449e+00,  1.81156922e+00,  1.82429019e+00,\n",
       "        1.82545957e+00,  1.83219868e+00,  1.84326457e+00,  1.85012766e+00,\n",
       "        1.85414024e+00,  1.86015792e+00,  1.86995716e+00,  1.88480340e+00,\n",
       "        1.89820733e+00,  1.90687567e+00,  1.90870585e+00,  1.93201658e+00,\n",
       "        1.93865992e+00,  1.95144101e+00,  1.96884132e+00,  1.98524063e+00])"
      ]
     },
     "execution_count": 31,
     "metadata": {},
     "output_type": "execute_result"
    }
   ],
   "source": [
    "evals, evecs = np.linalg.eig(wigner)\n",
    "evals = np.sort(evals)\n",
    "evals"
   ]
  },
  {
   "cell_type": "code",
   "execution_count": 32,
   "metadata": {},
   "outputs": [
    {
     "data": {
      "text/plain": [
       "[<matplotlib.lines.Line2D at 0x12da80c10>]"
      ]
     },
     "execution_count": 32,
     "metadata": {},
     "output_type": "execute_result"
    },
    {
     "data": {
      "image/png": "[encoded data removed]",
      "text/plain": [
       "<Figure size 640x480 with 1 Axes>"
      ]
     },
     "metadata": {},
     "output_type": "display_data"
    }
   ],
   "source": [
    "def wigner_semicircle(evals):\n",
    "    output = np.zeros(len(evals))\n",
    "    for idx, eval in enumerate(evals):\n",
    "        if np.abs(eval) < 2:\n",
    "            output[idx] = np.sqrt(4 - eval**2)/(2*np.pi)\n",
    "        else:\n",
    "            output[idx] = 0\n",
    "    return output\n",
    "\n",
    "def wigner_semicircle_efficient(evals):\n",
    "    output = evals\n",
    "    idxs = np.abs(evals) > 2\n",
    "    idxs2 = np.abs(evals) <= 2\n",
    "    evals[idxs] = 0\n",
    "    evals[idxs2] = np.sqrt(4 - evals**2)/(2*np.pi)\n",
    "    return output\n",
    "\n",
    "plt.hist(evals, density=True, bins=50)\n",
    "plt.plot(evals, wigner_semicircle(evals))"
   ]
  }
 ],
 "metadata": {
  "kernelspec": {
   "display_name": "Python 3",
   "language": "python",
   "name": "python3"
  },
  "language_info": {
   "codemirror_mode": {
    "name": "ipython",
    "version": 3
   },
   "file_extension": ".py",
   "mimetype": "text/x-python",
   "name": "python",
   "nbconvert_exporter": "python",
   "pygments_lexer": "ipython3",
   "version": "3.11.4"
  },
  "orig_nbformat": 4
 },
 "nbformat": 4,
 "nbformat_minor": 2
}
