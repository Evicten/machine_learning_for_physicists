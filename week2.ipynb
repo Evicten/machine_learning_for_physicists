{
 "cells": [
  {
   "cell_type": "code",
   "execution_count": 2,
   "metadata": {},
   "outputs": [],
   "source": [
    "import numpy as np\n",
    "import matplotlib.pyplot as plt"
   ]
  },
  {
   "cell_type": "markdown",
   "metadata": {},
   "source": [
    "# Exercise 1: Vectorized Operations: Writing Optimized Code\n",
    "\n",
    "1. Generate a 1000 × 1000 matrix of random integers between 0 (included) and 20 (excluded).\n",
    "2. Compute the sum of diagonal elements using a for loop.\n",
    "3. Compute the sum of diagonal elements using a NumPy linear algebra function.\n",
    "4. Compare the running times of 2. and 3. with %%timeit (the %% syntax allows timing multiple lines).\n",
    "Hint: use numpy.random.randint."
   ]
  },
  {
   "cell_type": "code",
   "execution_count": 24,
   "metadata": {},
   "outputs": [],
   "source": [
    "matrix = np.random.randint(0, 20, size=(1000, 1000))"
   ]
  },
  {
   "cell_type": "code",
   "execution_count": 25,
   "metadata": {},
   "outputs": [
    {
     "name": "stdout",
     "output_type": "stream",
     "text": [
      "127 µs ± 1.5 µs per loop (mean ± std. dev. of 7 runs, 10,000 loops each)\n"
     ]
    }
   ],
   "source": [
    "%%timeit\n",
    "sum = 0\n",
    "for i in np.arange(1000):\n",
    "    sum += matrix[i, i]"
   ]
  },
  {
   "cell_type": "code",
   "execution_count": 26,
   "metadata": {},
   "outputs": [
    {
     "name": "stdout",
     "output_type": "stream",
     "text": [
      "1.34 µs ± 11.2 ns per loop (mean ± std. dev. of 7 runs, 1,000,000 loops each)\n"
     ]
    }
   ],
   "source": [
    "%%timeit\n",
    "trace = np.trace(matrix)"
   ]
  },
  {
   "cell_type": "markdown",
   "metadata": {},
   "source": [
    "# Exercise 2: Fibonacci Numbers with Binet Formula\n",
    "\n",
    "1. Using NumPy, compute the first 20 numbers of the Fibonacci series Fn (n = 1, 2, . . . , 10) with Binet formula"
   ]
  },
  {
   "cell_type": "code",
   "execution_count": 27,
   "metadata": {},
   "outputs": [
    {
     "name": "stdout",
     "output_type": "stream",
     "text": [
      "[1.000e+00 1.000e+00 2.000e+00 3.000e+00 5.000e+00 8.000e+00 1.300e+01\n",
      " 2.100e+01 3.400e+01 5.500e+01 8.900e+01 1.440e+02 2.330e+02 3.770e+02\n",
      " 6.100e+02 9.870e+02 1.597e+03 2.584e+03 4.181e+03 6.765e+03]\n"
     ]
    }
   ],
   "source": [
    "def binet_formula(n):\n",
    "    return (np.power(1+np.sqrt(5), n) - np.power(1-np.sqrt(5), n))/(2**n*np.sqrt(5))\n",
    "\n",
    "first_twenty = binet_formula(np.arange(20)+1)\n",
    "print(first_twenty)"
   ]
  },
  {
   "cell_type": "markdown",
   "metadata": {},
   "source": [
    "# Exercise 3: Quantum Harmonic Oscillator\n",
    "\n",
    "In this exercise, you will find the bound states of the 1d quantum harmonic oscillator of mass m by solving the time-independent Schr ̈odinger equation numerically. This equation is an eigenvalue problem\n",
    "Hψn = Enψn\n",
    "where H = K + V = − h ̄2 ∂2 + 1 mω2x2 is the Hamiltonian operator, ψ is the wavefunction (eigenfunction),\n",
    "2m x 2 n and En the energy level (eigenvalue). In the following, set h ̄ = m = ω = 1.\n",
    "1. Space discretization. Consider the interval [−10, 10] and discretize it generating a mesh of uniform spacing ∆x = 0.01 with N points, i.e., xi = −10 + i∆x (i = 0,1,...,N − 1). In this space, the wavefunction ψ is a vector with components (ψ)i = ψ(xi).\n",
    "2. Hamiltonian discretization. Using this discretization, the Hamiltonian becomes a N × N matrix. In particular, the kinetic energy term is\n",
    "\n",
    "()\n",
    "\n",
    "where we used the finite-difference approximation of the second derivative, and the potential energy\n",
    "term is\n",
    "\n",
    "()\n",
    "\n",
    "Generate the Hamiltonian matrix Hˆ = Kˆ + Vˆ .\n",
    "\n",
    "3. Diagonalization. Diagonalize Hˆ using numpy.linalg.eig and numpy.linalg.eigh, which is specific for symmetric matrices. Use %%timeit to compare running times. Check that the eigenvalues are sorted in increasing order, and if not, do so.\n",
    "4. Normalize the wavefunctions (eigenfunctions) of Hˆ computing the normalization constant\n",
    "Z =\n",
    "sZ 10 vuN−1\n",
    "ψ∗(x)ψ(x)dx ≈ ut X ψ∗(xi)ψ(xi)∆x.\n",
    "−10\n",
    "i=0\n",
    "5. Plot the first 10 (normalized) wavefunctions and print the values of the corresponding energy levels (eigenvalues1 ). Compare with the theoretical predictions En = (n + 21 ).\n",
    "Hint: use numpy.arange, numpy.diag, numpy.argsort, matplotlib.pyplot.plot.\n"
   ]
  },
  {
   "cell_type": "code",
   "execution_count": 11,
   "metadata": {},
   "outputs": [
    {
     "name": "stdout",
     "output_type": "stream",
     "text": [
      "0.01\n",
      "[-10.    -9.99  -9.98 ...   9.98   9.99  10.  ]\n"
     ]
    }
   ],
   "source": [
    "delta_x = 0.01\n",
    "size = int(20/delta_x) + 1\n",
    "x_space, step = np.linspace(-10, 10, num=int(20/delta_x)+1, retstep = True)\n",
    "print(step)\n",
    "print(x_space)"
   ]
  },
  {
   "cell_type": "code",
   "execution_count": 26,
   "metadata": {},
   "outputs": [
    {
     "name": "stdout",
     "output_type": "stream",
     "text": [
      "[[10000. -5000.    -0. ...    -0.    -0.    -0.]\n",
      " [-5000. 10000. -5000. ...    -0.    -0.    -0.]\n",
      " [   -0. -5000. 10000. ...    -0.    -0.    -0.]\n",
      " ...\n",
      " [   -0.    -0.    -0. ... 10000. -5000.    -0.]\n",
      " [   -0.    -0.    -0. ... -5000. 10000. -5000.]\n",
      " [   -0.    -0.    -0. ...    -0. -5000. 10000.]]\n",
      "[[25.        0.        0.       ...  0.        0.        0.      ]\n",
      " [ 0.       24.950025  0.       ...  0.        0.        0.      ]\n",
      " [ 0.        0.       24.9001   ...  0.        0.        0.      ]\n",
      " ...\n",
      " [ 0.        0.        0.       ... 24.9001    0.        0.      ]\n",
      " [ 0.        0.        0.       ...  0.       24.950025  0.      ]\n",
      " [ 0.        0.        0.       ...  0.        0.       25.      ]]\n",
      "[[10025.       -5000.           0.       ...     0.           0.\n",
      "      0.      ]\n",
      " [-5000.       10024.950025 -5000.       ...     0.           0.\n",
      "      0.      ]\n",
      " [    0.       -5000.       10024.9001   ...     0.           0.\n",
      "      0.      ]\n",
      " ...\n",
      " [    0.           0.           0.       ... 10024.9001   -5000.\n",
      "      0.      ]\n",
      " [    0.           0.           0.       ... -5000.       10024.950025\n",
      "  -5000.      ]\n",
      " [    0.           0.           0.       ...     0.       -5000.\n",
      "  10025.      ]]\n"
     ]
    }
   ],
   "source": [
    "K = -1/(2*delta_x**2)*(np.diag(-2*np.ones(size))+np.diag(1*np.ones(size-1), k=1)+np.diag(1*np.ones(size-1), k=-1))\n",
    "print(K)\n",
    "\n",
    "def V_calc(x):\n",
    "    return 1/2*x**2\n",
    "\n",
    "V_vec = V_calc(x_space)\n",
    "V = 1/2*np.diag(V_vec)\n",
    "print(V)\n",
    "\n",
    "H = K + V\n",
    "print(H)"
   ]
  },
  {
   "cell_type": "code",
   "execution_count": 27,
   "metadata": {},
   "outputs": [
    {
     "name": "stdout",
     "output_type": "stream",
     "text": [
      "[20019.78223004 20016.06330319 20013.17378806 ...   768.07170486\n",
      "  1032.99425517   444.97692994]\n"
     ]
    }
   ],
   "source": [
    "eigenvalues, eigenvectors = np.linalg.eig(H)\n",
    "print(eigenvalues)"
   ]
  },
  {
   "cell_type": "code",
   "execution_count": 59,
   "metadata": {},
   "outputs": [
    {
     "name": "stdout",
     "output_type": "stream",
     "text": [
      "[3.53551828e-01 1.06065236e+00 1.76774664e+00 ... 2.00160633e+04\n",
      " 2.00197822e+04 2.00197822e+04]\n"
     ]
    }
   ],
   "source": [
    "eigenvalues, eigenvectors = np.linalg.eigh(H)\n",
    "print(eigenvalues)"
   ]
  },
  {
   "cell_type": "code",
   "execution_count": 63,
   "metadata": {},
   "outputs": [
    {
     "name": "stdout",
     "output_type": "stream",
     "text": [
      "(2001, 2001)\n"
     ]
    }
   ],
   "source": [
    "# Normalize\n",
    "\n",
    "def normalize(eigenvectors):\n",
    "    return np.sqrt(np.sum(np.square(eigenvectors), axis = 0)*delta_x)\n",
    "\n",
    "print(eigenvectors.shape)\n",
    "Z = (normalize(eigenvectors)[np.newaxis]).T"
   ]
  },
  {
   "cell_type": "code",
   "execution_count": 76,
   "metadata": {},
   "outputs": [
    {
     "name": "stdout",
     "output_type": "stream",
     "text": [
      "100.00000000000004\n",
      "(1, 9)\n"
     ]
    }
   ],
   "source": [
    "## Plot first ten eigenvectors\n",
    "eigenvec = np.divide(eigenvectors[:, 0:9],Z)\n",
    "print(np.sum(np.square(eigenvec[:, 6])))\n",
    "eigenval = eigenvalues[0:9].T[np.newaxis]\n",
    "print(eigenval.shape)\n",
    "eigenval = np.divide(eigenval, Z)"
   ]
  },
  {
   "cell_type": "code",
   "execution_count": 74,
   "metadata": {},
   "outputs": [
    {
     "name": "stdout",
     "output_type": "stream",
     "text": [
      "(2001, 9)\n",
      "(2001, 9)\n"
     ]
    }
   ],
   "source": [
    "print(eigenvec.shape)\n",
    "print(eigenval.shape)"
   ]
  },
  {
   "cell_type": "code",
   "execution_count": 71,
   "metadata": {},
   "outputs": [
    {
     "ename": "SyntaxError",
     "evalue": "invalid decimal literal (3128753363.py, line 2)",
     "output_type": "error",
     "traceback": [
      "\u001b[0;36m  Cell \u001b[0;32mIn[71], line 2\u001b[0;36m\u001b[0m\n\u001b[0;31m    plt.plot(x_space, vec, label = 'Energy = ' + {eval[i]:.4f})\u001b[0m\n\u001b[0m                                                           ^\u001b[0m\n\u001b[0;31mSyntaxError\u001b[0m\u001b[0;31m:\u001b[0m invalid decimal literal\n"
     ]
    }
   ],
   "source": [
    "for idx, vec in enumerate(eigenvec.T):\n",
    "    plt.plot(x_space, vec, label = 'Energy = ' + \"{:.4f}\".format(eigenval[idx]))\n",
    "    plt.xlabel('x')\n",
    "    plt.ylabel('psi(x)')\n",
    "    plt.legend()\n",
    "    plt.title('eigenvectors SHO')\n",
    "    plt.show()\n",
    "\n"
   ]
  }
 ],
 "metadata": {
  "kernelspec": {
   "display_name": "Python 3",
   "language": "python",
   "name": "python3"
  },
  "language_info": {
   "codemirror_mode": {
    "name": "ipython",
    "version": 3
   },
   "file_extension": ".py",
   "mimetype": "text/x-python",
   "name": "python",
   "nbconvert_exporter": "python",
   "pygments_lexer": "ipython3",
   "version": "3.11.4"
  },
  "orig_nbformat": 4
 },
 "nbformat": 4,
 "nbformat_minor": 2
}
